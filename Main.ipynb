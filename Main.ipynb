{
 "cells": [
  {
   "cell_type": "code",
   "execution_count": 41,
   "metadata": {},
   "outputs": [],
   "source": [
    "import numpy as np\n",
    "import matplotlib.pyplot as plt\n",
    "import pandas as pd\n",
    "import datetime as dt"
   ]
  },
  {
   "cell_type": "code",
   "execution_count": 42,
   "metadata": {},
   "outputs": [
    {
     "data": {
      "text/html": [
       "<div>\n",
       "<style scoped>\n",
       "    .dataframe tbody tr th:only-of-type {\n",
       "        vertical-align: middle;\n",
       "    }\n",
       "\n",
       "    .dataframe tbody tr th {\n",
       "        vertical-align: top;\n",
       "    }\n",
       "\n",
       "    .dataframe thead th {\n",
       "        text-align: right;\n",
       "    }\n",
       "</style>\n",
       "<table border=\"1\" class=\"dataframe\">\n",
       "  <thead>\n",
       "    <tr style=\"text-align: right;\">\n",
       "      <th></th>\n",
       "      <th>date</th>\n",
       "      <th>temp</th>\n",
       "      <th>max</th>\n",
       "      <th>min</th>\n",
       "    </tr>\n",
       "  </thead>\n",
       "  <tbody>\n",
       "    <tr>\n",
       "      <th>0</th>\n",
       "      <td>1933-01-01</td>\n",
       "      <td>13.67</td>\n",
       "      <td>18.89</td>\n",
       "      <td>2.78</td>\n",
       "    </tr>\n",
       "    <tr>\n",
       "      <th>1</th>\n",
       "      <td>1933-01-02</td>\n",
       "      <td>13.89</td>\n",
       "      <td>19.61</td>\n",
       "      <td>1.89</td>\n",
       "    </tr>\n",
       "    <tr>\n",
       "      <th>2</th>\n",
       "      <td>1933-01-03</td>\n",
       "      <td>10.83</td>\n",
       "      <td>16.28</td>\n",
       "      <td>0.78</td>\n",
       "    </tr>\n",
       "    <tr>\n",
       "      <th>3</th>\n",
       "      <td>1933-01-04</td>\n",
       "      <td>14.94</td>\n",
       "      <td>21.28</td>\n",
       "      <td>1.28</td>\n",
       "    </tr>\n",
       "    <tr>\n",
       "      <th>4</th>\n",
       "      <td>1933-01-05</td>\n",
       "      <td>18.11</td>\n",
       "      <td>23.50</td>\n",
       "      <td>6.89</td>\n",
       "    </tr>\n",
       "    <tr>\n",
       "      <th>...</th>\n",
       "      <td>...</td>\n",
       "      <td>...</td>\n",
       "      <td>...</td>\n",
       "      <td>...</td>\n",
       "    </tr>\n",
       "    <tr>\n",
       "      <th>33646</th>\n",
       "      <td>2025-03-27</td>\n",
       "      <td>13.56</td>\n",
       "      <td>18.89</td>\n",
       "      <td>11.50</td>\n",
       "    </tr>\n",
       "    <tr>\n",
       "      <th>33647</th>\n",
       "      <td>2025-03-28</td>\n",
       "      <td>13.00</td>\n",
       "      <td>14.22</td>\n",
       "      <td>12.00</td>\n",
       "    </tr>\n",
       "    <tr>\n",
       "      <th>33648</th>\n",
       "      <td>2025-03-29</td>\n",
       "      <td>13.22</td>\n",
       "      <td>19.72</td>\n",
       "      <td>6.61</td>\n",
       "    </tr>\n",
       "    <tr>\n",
       "      <th>33649</th>\n",
       "      <td>2025-03-30</td>\n",
       "      <td>12.61</td>\n",
       "      <td>18.89</td>\n",
       "      <td>6.61</td>\n",
       "    </tr>\n",
       "    <tr>\n",
       "      <th>33650</th>\n",
       "      <td>2025-03-31</td>\n",
       "      <td>13.33</td>\n",
       "      <td>15.28</td>\n",
       "      <td>12.00</td>\n",
       "    </tr>\n",
       "  </tbody>\n",
       "</table>\n",
       "<p>33651 rows × 4 columns</p>\n",
       "</div>"
      ],
      "text/plain": [
       "            date   temp    max    min\n",
       "0     1933-01-01  13.67  18.89   2.78\n",
       "1     1933-01-02  13.89  19.61   1.89\n",
       "2     1933-01-03  10.83  16.28   0.78\n",
       "3     1933-01-04  14.94  21.28   1.28\n",
       "4     1933-01-05  18.11  23.50   6.89\n",
       "...          ...    ...    ...    ...\n",
       "33646 2025-03-27  13.56  18.89  11.50\n",
       "33647 2025-03-28  13.00  14.22  12.00\n",
       "33648 2025-03-29  13.22  19.72   6.61\n",
       "33649 2025-03-30  12.61  18.89   6.61\n",
       "33650 2025-03-31  13.33  15.28  12.00\n",
       "\n",
       "[33651 rows x 4 columns]"
      ]
     },
     "execution_count": 42,
     "metadata": {},
     "output_type": "execute_result"
    }
   ],
   "source": [
    "temp_data = pd.read_csv('Data/gsod_station_722860.csv')\n",
    "temp_data = temp_data.iloc[:, 1:]\n",
    "# Convert the 'date' column to datetime\n",
    "temp_data['date'] = pd.to_datetime(temp_data['date'])\n",
    "temp_data"
   ]
  },
  {
   "cell_type": "code",
   "execution_count": 43,
   "metadata": {},
   "outputs": [
    {
     "data": {
      "text/html": [
       "<div>\n",
       "<style scoped>\n",
       "    .dataframe tbody tr th:only-of-type {\n",
       "        vertical-align: middle;\n",
       "    }\n",
       "\n",
       "    .dataframe tbody tr th {\n",
       "        vertical-align: top;\n",
       "    }\n",
       "\n",
       "    .dataframe thead th {\n",
       "        text-align: right;\n",
       "    }\n",
       "</style>\n",
       "<table border=\"1\" class=\"dataframe\">\n",
       "  <thead>\n",
       "    <tr style=\"text-align: right;\">\n",
       "      <th></th>\n",
       "      <th>date</th>\n",
       "      <th>temp</th>\n",
       "      <th>max</th>\n",
       "      <th>min</th>\n",
       "    </tr>\n",
       "  </thead>\n",
       "  <tbody>\n",
       "    <tr>\n",
       "      <th>13463</th>\n",
       "      <td>1969-12-15</td>\n",
       "      <td>8.78</td>\n",
       "      <td>5537.72</td>\n",
       "      <td>-2.78</td>\n",
       "    </tr>\n",
       "    <tr>\n",
       "      <th>14722</th>\n",
       "      <td>1973-05-27</td>\n",
       "      <td>19.33</td>\n",
       "      <td>5537.72</td>\n",
       "      <td>7.72</td>\n",
       "    </tr>\n",
       "    <tr>\n",
       "      <th>15607</th>\n",
       "      <td>1975-10-29</td>\n",
       "      <td>16.56</td>\n",
       "      <td>5537.72</td>\n",
       "      <td>7.22</td>\n",
       "    </tr>\n",
       "    <tr>\n",
       "      <th>28815</th>\n",
       "      <td>2011-12-28</td>\n",
       "      <td>8.22</td>\n",
       "      <td>5537.72</td>\n",
       "      <td>-2.50</td>\n",
       "    </tr>\n",
       "    <tr>\n",
       "      <th>28818</th>\n",
       "      <td>2011-12-31</td>\n",
       "      <td>11.56</td>\n",
       "      <td>5537.72</td>\n",
       "      <td>1.72</td>\n",
       "    </tr>\n",
       "    <tr>\n",
       "      <th>31007</th>\n",
       "      <td>2017-12-28</td>\n",
       "      <td>11.44</td>\n",
       "      <td>5537.72</td>\n",
       "      <td>1.22</td>\n",
       "    </tr>\n",
       "    <tr>\n",
       "      <th>32089</th>\n",
       "      <td>2020-12-20</td>\n",
       "      <td>8.89</td>\n",
       "      <td>5537.72</td>\n",
       "      <td>-1.78</td>\n",
       "    </tr>\n",
       "  </tbody>\n",
       "</table>\n",
       "</div>"
      ],
      "text/plain": [
       "            date   temp      max   min\n",
       "13463 1969-12-15   8.78  5537.72 -2.78\n",
       "14722 1973-05-27  19.33  5537.72  7.72\n",
       "15607 1975-10-29  16.56  5537.72  7.22\n",
       "28815 2011-12-28   8.22  5537.72 -2.50\n",
       "28818 2011-12-31  11.56  5537.72  1.72\n",
       "31007 2017-12-28  11.44  5537.72  1.22\n",
       "32089 2020-12-20   8.89  5537.72 -1.78"
      ]
     },
     "execution_count": 43,
     "metadata": {},
     "output_type": "execute_result"
    }
   ],
   "source": [
    "max_outliers = temp_data[temp_data['max'] > 50]\n",
    "max_outliers"
   ]
  },
  {
   "cell_type": "code",
   "execution_count": 44,
   "metadata": {},
   "outputs": [
    {
     "data": {
      "text/html": [
       "<div>\n",
       "<style scoped>\n",
       "    .dataframe tbody tr th:only-of-type {\n",
       "        vertical-align: middle;\n",
       "    }\n",
       "\n",
       "    .dataframe tbody tr th {\n",
       "        vertical-align: top;\n",
       "    }\n",
       "\n",
       "    .dataframe thead th {\n",
       "        text-align: right;\n",
       "    }\n",
       "</style>\n",
       "<table border=\"1\" class=\"dataframe\">\n",
       "  <thead>\n",
       "    <tr style=\"text-align: right;\">\n",
       "      <th></th>\n",
       "      <th>date</th>\n",
       "      <th>temp</th>\n",
       "      <th>max</th>\n",
       "      <th>min</th>\n",
       "    </tr>\n",
       "  </thead>\n",
       "  <tbody>\n",
       "    <tr>\n",
       "      <th>7</th>\n",
       "      <td>1933-01-08</td>\n",
       "      <td>14.44</td>\n",
       "      <td>23.50</td>\n",
       "      <td>5537.72</td>\n",
       "    </tr>\n",
       "    <tr>\n",
       "      <th>164</th>\n",
       "      <td>1933-06-14</td>\n",
       "      <td>33.17</td>\n",
       "      <td>38.89</td>\n",
       "      <td>5537.72</td>\n",
       "    </tr>\n",
       "    <tr>\n",
       "      <th>12673</th>\n",
       "      <td>1967-10-17</td>\n",
       "      <td>22.61</td>\n",
       "      <td>35.50</td>\n",
       "      <td>5537.72</td>\n",
       "    </tr>\n",
       "    <tr>\n",
       "      <th>22929</th>\n",
       "      <td>1995-11-15</td>\n",
       "      <td>11.83</td>\n",
       "      <td>23.78</td>\n",
       "      <td>5537.72</td>\n",
       "    </tr>\n",
       "  </tbody>\n",
       "</table>\n",
       "</div>"
      ],
      "text/plain": [
       "            date   temp    max      min\n",
       "7     1933-01-08  14.44  23.50  5537.72\n",
       "164   1933-06-14  33.17  38.89  5537.72\n",
       "12673 1967-10-17  22.61  35.50  5537.72\n",
       "22929 1995-11-15  11.83  23.78  5537.72"
      ]
     },
     "execution_count": 44,
     "metadata": {},
     "output_type": "execute_result"
    }
   ],
   "source": [
    "min_outliers = temp_data[temp_data['min'] > 50]\n",
    "min_outliers"
   ]
  },
  {
   "cell_type": "code",
   "execution_count": 46,
   "metadata": {},
   "outputs": [
    {
     "name": "stdout",
     "output_type": "stream",
     "text": [
      "Filling date: 1969-12-15 00:00:00 with: 18.823131868131867\n",
      "Filling date: 1973-05-27 00:00:00 with: 25.90239010989011\n",
      "Filling date: 1975-10-29 00:00:00 with: 24.8903021978022\n",
      "Filling date: 2011-12-28 00:00:00 with: 20.59742063492063\n",
      "Filling date: 2011-12-31 00:00:00 with: 21.22724304465376\n",
      "Filling date: 2017-12-28 00:00:00 with: 20.22295286063143\n",
      "Filling date: 2020-12-20 00:00:00 with: 20.338681318681317\n"
     ]
    }
   ],
   "source": [
    "# Fixing Outliers for max temperature\n",
    "for i in range(len(temp_data)):\n",
    "    if temp_data['max'][i] > 50:\n",
    "        # Find the average temperature across all years on the SAME day\n",
    "        date = temp_data['date'][i]\n",
    "        day = date.day\n",
    "        month = date.month\n",
    "        avy = temp_data[(temp_data['date'].dt.day == day) & \n",
    "                             (temp_data['date'].dt.month == month) & \n",
    "                             (temp_data['max'] < 40)]['max']\n",
    "        avy = avy.mean()\n",
    "        \n",
    "        # Finf the average temperature across the previous week and the next week\n",
    "        week_before = temp_data[(temp_data['date'] < date) & \n",
    "                                (temp_data['date'] >= date - pd.Timedelta(days=7))]['max']\n",
    "        week_after = temp_data[(temp_data['date'] > date) &\n",
    "                                (temp_data['date'] <= date + pd.Timedelta(days=7)) &\n",
    "                                (temp_data['max'] < 40)]['max']\n",
    "        avg_temp = (week_before.mean() + week_after.mean()) / 2\n",
    "        \n",
    "        NAfill = (avy + avg_temp) / 2\n",
    "        print('Filling date:', date, 'with:', NAfill)\n",
    "        temp_data.loc[i, 'max'] = NAfill"
   ]
  },
  {
   "cell_type": "code",
   "execution_count": 47,
   "metadata": {},
   "outputs": [
    {
     "name": "stdout",
     "output_type": "stream",
     "text": [
      "Filling date: 1933-01-08 00:00:00 with: 4.694425465838508\n",
      "Filling date: 1933-06-14 00:00:00 with: 16.473214285714285\n",
      "Filling date: 1967-10-17 00:00:00 with: 10.204972527472528\n",
      "Filling date: 1995-11-15 00:00:00 with: 7.180384615384615\n"
     ]
    }
   ],
   "source": [
    "# Fixing Outliers for min temperature\n",
    "for i in range(len(temp_data)):\n",
    "    if temp_data['min'][i] > 50:\n",
    "        # Find the average temperature across all years on the SAME day\n",
    "        date = temp_data['date'][i]\n",
    "        day = date.day\n",
    "        month = date.month\n",
    "        avy = temp_data[(temp_data['date'].dt.day == day) & \n",
    "                             (temp_data['date'].dt.month == month) & \n",
    "                             (temp_data['min'] < 40)]['min']\n",
    "        avy = avy.mean()\n",
    "        \n",
    "        # Finf the average temperature across the previous week and the next week\n",
    "        week_before = temp_data[(temp_data['date'] < date) & \n",
    "                                (temp_data['date'] >= date - pd.Timedelta(days=7))]['min']\n",
    "        week_after = temp_data[(temp_data['date'] > date) &\n",
    "                                (temp_data['date'] <= date + pd.Timedelta(days=7)) &\n",
    "                                (temp_data['min'] < 40)]['min']\n",
    "        avg_temp = (week_before.mean() + week_after.mean()) / 2\n",
    "        \n",
    "        NAfill = (avy + avg_temp) / 2\n",
    "        print('Filling date:', date, 'with:', NAfill)\n",
    "        temp_data.loc[i, 'min'] = NAfill"
   ]
  },
  {
   "cell_type": "code",
   "execution_count": 48,
   "metadata": {},
   "outputs": [
    {
     "data": {
      "image/png": "[encoded data removed]",
      "text/plain": [
       "<Figure size 432x288 with 1 Axes>"
      ]
     },
     "metadata": {
      "needs_background": "light"
     },
     "output_type": "display_data"
    }
   ],
   "source": [
    "# plot the temp column vs the date column\n",
    "plt.plot(temp_data['date'], temp_data['temp'])\n",
    "plt.xlabel('Date')\n",
    "plt.ylabel('Average Temperature')\n",
    "plt.title('Temperature over Time')\n",
    "plt.show()\n"
   ]
  },
  {
   "cell_type": "code",
   "execution_count": 49,
   "metadata": {},
   "outputs": [
    {
     "data": {
      "image/png": "[encoded data removed]",
      "text/plain": [
       "<Figure size 432x288 with 1 Axes>"
      ]
     },
     "metadata": {
      "needs_background": "light"
     },
     "output_type": "display_data"
    }
   ],
   "source": [
    "# Now plot the min and max temperatures over time in a different colour\n",
    "plt.plot(temp_data['date'], temp_data['max'], label='Max Temperature', color='red')\n",
    "plt.plot(temp_data['date'], temp_data['min'], label='Min Temperature', color='blue')\n",
    "plt.xlabel('Date')\n",
    "plt.ylabel('Temperature')\n",
    "plt.title('Max and Min Temperatures over Time')\n",
    "plt.legend()\n",
    "plt.show()"
   ]
  }
 ],
 "metadata": {
  "kernelspec": {
   "display_name": "Python 3",
   "language": "python",
   "name": "python3"
  },
  "language_info": {
   "codemirror_mode": {
    "name": "ipython",
    "version": 3
   },
   "file_extension": ".py",
   "mimetype": "text/x-python",
   "name": "python",
   "nbconvert_exporter": "python",
   "pygments_lexer": "ipython3",
   "version": "3.6.13"
  }
 },
 "nbformat": 4,
 "nbformat_minor": 2
}
