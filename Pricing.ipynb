{
 "cells": [
  {
   "cell_type": "code",
   "execution_count": 32,
   "metadata": {},
   "outputs": [],
   "source": [
    "import numpy as np\n",
    "import matplotlib.pyplot as plt\n",
    "import pandas as pd"
   ]
  },
  {
   "cell_type": "code",
   "execution_count": 33,
   "metadata": {},
   "outputs": [],
   "source": [
    "# open up csv file forecast\n",
    "forecast = pd.read_csv('Forecasts/SARIMA_Forecast.csv', index_col=0)\n",
    "\n",
    "historical_data = pd.read_csv('Data/full_cleaned_data.csv')"
   ]
  },
  {
   "cell_type": "code",
   "execution_count": 34,
   "metadata": {},
   "outputs": [
    {
     "data": {
      "text/plain": [
       "25.900798898071624"
      ]
     },
     "execution_count": 34,
     "metadata": {},
     "output_type": "execute_result"
    }
   ],
   "source": [
    "# Ensure 'date' column in historical data is datetime\n",
    "historical_data['date'] = pd.to_datetime(historical_data['date'])\n",
    "\n",
    "# Ensure forecast index is datetime\n",
    "forecast.index = pd.to_datetime(forecast.index)\n",
    "\n",
    "# Get the start date of the forecast\n",
    "forecast_start_date = forecast.index[0]\n",
    "\n",
    "# Get the last 10 years of data from the forecast start date\n",
    "start_10_years_ago = forecast_start_date - pd.DateOffset(years=10)\n",
    "last_10_years = historical_data[historical_data['date'] >= start_10_years_ago]\n",
    "\n",
    "# Get the month/day combinations from the forecast period\n",
    "forecast_month_day = set((d.month, d.day) for d in forecast.index)\n",
    "\n",
    "# Filter historical data to keep only rows matching those month/day combinations\n",
    "historical_matches = historical_data[\n",
    "    historical_data['date'].apply(lambda d: (d.month, d.day) in forecast_month_day)\n",
    "]\n",
    "\n",
    "# Keep only last 10 years of those matches\n",
    "historical_matches = historical_matches[historical_matches['date'] >= start_10_years_ago]\n",
    "\n",
    "# Compute the average temperature\n",
    "reference_temp = historical_matches['mean'].mean()\n",
    "\n",
    "reference_temp"
   ]
  },
  {
   "cell_type": "markdown",
   "metadata": {},
   "source": [
    "# HDD Contract\n"
   ]
  },
  {
   "cell_type": "code",
   "execution_count": 35,
   "metadata": {},
   "outputs": [
    {
     "data": {
      "text/plain": [
       "57.42183595903981"
      ]
     },
     "execution_count": 35,
     "metadata": {},
     "output_type": "execute_result"
    }
   ],
   "source": [
    "# Calculate the CDD for the forecast period\n",
    "\n",
    "#reference_temp = 18\n",
    "HDD = (reference_temp - forecast['forecast']).clip(lower=0)\n",
    "\n",
    "HDD_period = HDD.sum()\n",
    "HDD_period"
   ]
  },
  {
   "cell_type": "code",
   "execution_count": 36,
   "metadata": {},
   "outputs": [
    {
     "data": {
      "text/plain": [
       "27421835.95903981"
      ]
     },
     "execution_count": 36,
     "metadata": {},
     "output_type": "execute_result"
    }
   ],
   "source": [
    "notional = 1000000\n",
    "strike = 30\n",
    "\n",
    "price = notional * max(HDD_period - strike, 0)\n",
    "price"
   ]
  },
  {
   "cell_type": "markdown",
   "metadata": {},
   "source": [
    "# CDD Contract\n"
   ]
  },
  {
   "cell_type": "code",
   "execution_count": 37,
   "metadata": {},
   "outputs": [
    {
     "data": {
      "text/plain": [
       "18.26361788374076"
      ]
     },
     "execution_count": 37,
     "metadata": {},
     "output_type": "execute_result"
    }
   ],
   "source": [
    "# Calculate the CDD for the forecast period\n",
    "\n",
    "#reference_temp = 18\n",
    "CDD = (forecast['forecast'] - reference_temp).clip(lower=0)\n",
    "\n",
    "CDD_period = CDD.sum()\n",
    "CDD_period"
   ]
  },
  {
   "cell_type": "code",
   "execution_count": 39,
   "metadata": {},
   "outputs": [
    {
     "data": {
      "text/plain": [
       "0"
      ]
     },
     "execution_count": 39,
     "metadata": {},
     "output_type": "execute_result"
    }
   ],
   "source": [
    "notional = 1000000\n",
    "strike = 30\n",
    "\n",
    "price = notional * max(CDD_period - strike, 0)\n",
    "price"
   ]
  }
 ],
 "metadata": {
  "kernelspec": {
   "display_name": "weather_deriv",
   "language": "python",
   "name": "python3"
  },
  "language_info": {
   "codemirror_mode": {
    "name": "ipython",
    "version": 3
   },
   "file_extension": ".py",
   "mimetype": "text/x-python",
   "name": "python",
   "nbconvert_exporter": "python",
   "pygments_lexer": "ipython3",
   "version": "3.8.20"
  }
 },
 "nbformat": 4,
 "nbformat_minor": 2
}
