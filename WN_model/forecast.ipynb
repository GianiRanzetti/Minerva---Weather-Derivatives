{
 "cells": [
  {
   "cell_type": "code",
   "execution_count": null,
   "id": "2d97a2e8",
   "metadata": {},
   "outputs": [],
   "source": [
    "import numpy as np\n",
    "import matplotlib.pyplot as plt\n",
    "import pandas as pd\n"
   ]
  },
  {
   "cell_type": "code",
   "execution_count": 4,
   "id": "1e6dce99",
   "metadata": {},
   "outputs": [],
   "source": [
    "temp_data_train = pd.read_csv('../Data/train_data.csv')\n",
    "temp_data_test = pd.read_csv('../Data/test_data.csv')\n",
    "# Convert the 'date' column to datetime\n",
    "temp_data_train['date'] = pd.to_datetime(temp_data_train['date'])\n",
    "temp_data_test['date'] = pd.to_datetime(temp_data_test['date'])\n",
    "\n",
    "T_actual_train = temp_data_train['mean'].to_numpy()\n",
    "T_actual_test = temp_data_test['mean'].to_numpy()"
   ]
  },
  {
   "cell_type": "code",
   "execution_count": null,
   "id": "09142234",
   "metadata": {},
   "outputs": [],
   "source": [
    "from sklearn.metrics import mean_absolute_error, mean_squared_error\n",
    "\n",
    "# 1. Load your parameters (shape assumed to be (N,))\n",
    "S = np.load(\"S_seasonal.npy\")         # Seasonal component\n",
    "k = np.load(\"k_timevarying.npy\")        # Time-varying parameter\n",
    "sigma = np.load(\"sigma_timevarying.npy\")  # Time-varying volatility\n",
    "\n",
    "# 2. Forecast settings\n",
    "forecast_end = 365  # number of forecast time steps\n",
    "forecast_start = 0\n",
    "\n",
    "# 3. Number of Monte Carlo simulation paths\n",
    "n_paths = 1000  # you can change this number as needed\n",
    "\n",
    "# 4. Generate the Monte Carlo paths\n",
    "T_all = np.zeros((n_paths, forecast_end))\n",
    "initial_value = T_actual_train[-1]  # starting with the last observed value from training data\n",
    "T_all[:, 0] = initial_value\n",
    "\n",
    "# Simulate the paths\n",
    "for t in range(1, forecast_end):\n",
    "    eps = np.random.randn(n_paths)  # random shock for each simulation path at time t\n",
    "    T_all[:, t] = S[t] + (1 + k[t-1]) * (T_all[:, t-1] - S[t-1]) + sigma[t] * eps\n",
    "\n",
    "# Average forecast over all paths at each time step\n",
    "T_avg = np.mean(T_all, axis=0)\n",
    "\n",
    "# -- Compute error statistics between T_avg and T_actual_test --\n",
    "mae = mean_absolute_error(T_actual_test, T_avg)\n",
    "mse = mean_squared_error(T_actual_test, T_avg)\n",
    "rmse = np.sqrt(mse)\n",
    "corr_coef = np.corrcoef(T_actual_test, T_avg)[0, 1]\n",
    "\n",
    "print(\"Mean Absolute Error (MAE):\", mae)\n",
    "print(\"Mean Squared Error (MSE):\", mse)\n",
    "print(\"Root Mean Squared Error (RMSE):\", rmse)\n",
    "print(\"Correlation Coefficient:\", corr_coef)\n",
    "\n",
    "# -- Plot the Actual Test Data vs. MC Average Forecast --\n",
    "plt.figure(figsize=(10, 6))\n",
    "plt.plot(T_actual_test, label=\"Actual Test Data\", linewidth=2, color='blue')\n",
    "plt.plot(T_avg, label=\"MC Average Forecast\", linewidth=2, linestyle=\"--\", color='orange')\n",
    "plt.xlabel(\"Time Step (Days)\")\n",
    "plt.ylabel(\"Value\")\n",
    "plt.title(\"Comparison: Actual Test Data vs. MC Average Forecast\")\n",
    "plt.legend()\n",
    "plt.show()\n"
   ]
  }
 ],
 "metadata": {
  "kernelspec": {
   "display_name": "Weather_Derivatives",
   "language": "python",
   "name": "python3"
  },
  "language_info": {
   "codemirror_mode": {
    "name": "ipython",
    "version": 3
   },
   "file_extension": ".py",
   "mimetype": "text/x-python",
   "name": "python",
   "nbconvert_exporter": "python",
   "pygments_lexer": "ipython3",
   "version": "3.12.9"
  }
 },
 "nbformat": 4,
 "nbformat_minor": 5
}
