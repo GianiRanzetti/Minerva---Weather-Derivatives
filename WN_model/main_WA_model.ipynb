{
 "cells": [
  {
   "cell_type": "code",
   "execution_count": 1,
   "metadata": {},
   "outputs": [
    {
     "ename": "ModuleNotFoundError",
     "evalue": "No module named 'pywt'",
     "output_type": "error",
     "traceback": [
      "\u001b[1;31m---------------------------------------------------------------------------\u001b[0m",
      "\u001b[1;31mModuleNotFoundError\u001b[0m                       Traceback (most recent call last)",
      "Cell \u001b[1;32mIn[1], line 4\u001b[0m\n\u001b[0;32m      2\u001b[0m \u001b[38;5;28;01mimport\u001b[39;00m \u001b[38;5;21;01mnumpy\u001b[39;00m \u001b[38;5;28;01mas\u001b[39;00m \u001b[38;5;21;01mnp\u001b[39;00m\n\u001b[0;32m      3\u001b[0m \u001b[38;5;28;01mimport\u001b[39;00m \u001b[38;5;21;01mstatsmodels\u001b[39;00m\u001b[38;5;21;01m.\u001b[39;00m\u001b[38;5;21;01mapi\u001b[39;00m \u001b[38;5;28;01mas\u001b[39;00m \u001b[38;5;21;01msm\u001b[39;00m\n\u001b[1;32m----> 4\u001b[0m \u001b[38;5;28;01mimport\u001b[39;00m \u001b[38;5;21;01mpywt\u001b[39;00m\n\u001b[0;32m      5\u001b[0m \u001b[38;5;28;01mimport\u001b[39;00m \u001b[38;5;21;01mtorch\u001b[39;00m \n\u001b[0;32m      6\u001b[0m \u001b[38;5;28;01mimport\u001b[39;00m \u001b[38;5;21;01mscipy\u001b[39;00m\n",
      "\u001b[1;31mModuleNotFoundError\u001b[0m: No module named 'pywt'"
     ]
    }
   ],
   "source": [
    "import pandas as pd\n",
    "import numpy as np\n",
    "import statsmodels.api as sm\n",
    "import pywt\n",
    "import torch \n",
    "import scipy\n",
    "import matplotlib.pyplot as plt\n",
    "from statsmodels.tsa.stattools import adfuller, kpss\n",
    "from hurst import compute_Hc, random_walk"
   ]
  },
  {
   "cell_type": "code",
   "execution_count": 2,
   "metadata": {},
   "outputs": [
    {
     "name": "stdout",
     "output_type": "stream",
     "text": []
    }
   ],
   "source": [
    "temp_data = pd.read_csv('../Data/gsod_station_722860.csv')\n",
    "temp_data = temp_data.iloc[:, 1:]\n",
    "# Convert the 'date' column to datetime\n",
    "temp_data['date'] = pd.to_datetime(temp_data['date'])\n",
    "temp_data"
   ]
  },
  {
   "cell_type": "markdown",
   "metadata": {},
   "source": [
    "We skip the data analysis that is done in Main.ipynb"
   ]
  },
  {
   "cell_type": "code",
   "execution_count": 3,
   "metadata": {},
   "outputs": [
    {
     "name": "stdout",
     "output_type": "stream",
     "text": []
    }
   ],
   "source": [
    "daily_seasonal_mean = temp_data.groupby(temp_data['date'].dt.dayofyear)['temp'].mean()\n",
    "daily_seasonal_std = temp_data.groupby(temp_data['date'].dt.dayofyear)['temp'].std()\n",
    "daily_seasonal_skew = temp_data.groupby(temp_data['date'].dt.dayofyear)['temp'].skew()\n",
    "daily_seasonal_kurtosis = temp_data.groupby(temp_data['date'].dt.dayofyear)['temp'].apply(scipy.stats.kurtosis)\n",
    "\n",
    "plt.figure(figsize=(16, 12))\n",
    "\n",
    "plt.subplot(2, 2, 1)\n",
    "daily_seasonal_mean.plot(title='Daily Seasonal Mean Temperature')\n",
    "plt.xlabel('Day of Year')\n",
    "plt.ylabel('Temperature')\n",
    "\n",
    "plt.subplot(2, 2, 2)\n",
    "daily_seasonal_std.plot(title='Daily Seasonal Standard Deviation')\n",
    "plt.xlabel('Day of Year')\n",
    "plt.ylabel('Standard Deviation')\n",
    "\n",
    "plt.subplot(2, 2, 3)\n",
    "daily_seasonal_skew.plot(title='Daily Seasonal Skewness')\n",
    "plt.xlabel('Day of Year')\n",
    "plt.ylabel('Skewness')\n",
    "\n",
    "plt.subplot(2, 2, 4)\n",
    "daily_seasonal_kurtosis.plot(title='Daily Seasonal Kurtosis')\n",
    "plt.xlabel('Day of Year')\n",
    "plt.ylabel('Kurtosis')\n",
    "\n",
    "plt.tight_layout()\n",
    "plt.show()"
   ]
  },
  {
   "cell_type": "markdown",
   "metadata": {},
   "source": [
    "# Detrend and deseasonalize (linear)\n",
    "- Perform ADF and KPSS tests on the raw temperature data.\n",
    "- Deseasonalize the temperature data by subtracting the daily seasonal mean.\n",
    "- Perform ADF and KPSS tests on the deseasonalized temperature data.\n",
    "- Detrend the time series using an OLS regression.\n",
    "- Deseasonalize and whiten the detrended series.\n",
    "- Perform ADF and KPSS tests on the deseasonalized and detrended series.\n",
    "- Estimate the Hurst exponent of the original and processed series.\n",
    "- Plot the ACF and PACF of the processed series.\n",
    "      "
   ]
  },
  {
   "cell_type": "code",
   "execution_count": 4,
   "metadata": {},
   "outputs": [
    {
     "name": "stdout",
     "output_type": "stream",
     "text": []
    },
    {
     "name": "stdout",
     "output_type": "stream",
     "text": []
    }
   ],
   "source": [
    "# Function to perform the ADF test\n",
    "def adf_test(series, title=''):\n",
    "    print(f'ADF Test for {title}')\n",
    "    result = adfuller(series.dropna())\n",
    "    \n",
    "    print('ADF Statistic: {:.4f}'.format(result[0]))\n",
    "    print('p-value: {:.4f}'.format(result[1]))\n",
    "    \n",
    "    print('Critical Values:')\n",
    "    for key, value in result[4].items():\n",
    "        print('\\t{}: {:.4f}'.format(key, value))\n",
    "    \n",
    "    if result[1] <= 0.05:\n",
    "        print(\"=> Reject the null hypothesis (H0). The data is stationary.\")\n",
    "    else:\n",
    "        print(\"=> Failed to reject the null hypothesis (H0). The data is non-stationary.\")\n",
    "    print(\"\\n\")\n",
    "\n",
    "# Function to perform the KPSS test\n",
    "def kpss_test(series, title=''):\n",
    "    print(f'KPSS Test for {title}')\n",
    "    result = kpss(series.dropna())\n",
    "    \n",
    "    print('KPSS Statistic: {:.4f}'.format(result[0]))\n",
    "    print('p-value: {:.4f}'.format(result[1]))\n",
    "    \n",
    "    print('Critical Values:')\n",
    "    for key, value in result[3].items():\n",
    "        print('\\t{}: {:.4f}'.format(key, value))\n",
    "    \n",
    "    if result[1] <= 0.05:\n",
    "        print(\"=> Reject the null hypothesis (H0). The data is non-stationary.\")\n",
    "    else:\n",
    "        print(\"=> Failed to reject the null hypothesis (H0). The data is stationary.\")\n",
    "    print(\"\\n\")\n",
    "\n",
    "# Perform tests on raw temperature data\n",
    "adf_test(temp_data['temp'], \"Raw Temperature Data\")\n",
    "kpss_test(temp_data['temp'], \"Raw Temperature Data\")\n",
    "\n"
   ]
  },
  {
   "cell_type": "markdown",
   "metadata": {},
   "source": [
    "# WA seasonal mean removal"
   ]
  },
  {
   "cell_type": "code",
   "execution_count": 5,
   "metadata": {},
   "outputs": [
    {
     "name": "stdout",
     "output_type": "stream",
     "text": []
    },
    {
     "name": "stdout",
     "output_type": "stream",
     "text": []
    },
    {
     "name": "stdout",
     "output_type": "stream",
     "text": []
    },
    {
     "name": "stdout",
     "output_type": "stream",
     "text": []
    }
   ],
   "source": [
    "'''\n",
    "# Create deseasonalized data using seasonal means\n",
    "# First, add day of year to the dataframe\n",
    "temp_data_with_day = temp_data.copy()\n",
    "temp_data_with_day['dayofyear'] = temp_data_with_day['date'].dt.dayofyear\n",
    "\n",
    "# Merge with seasonal means\n",
    "seasonal_means = daily_seasonal_mean.reset_index()\n",
    "seasonal_means.columns = ['dayofyear', 'seasonal_mean']\n",
    "temp_data_with_day = pd.merge(temp_data_with_day, seasonal_means, on='dayofyear')\n",
    "\n",
    "# Create deseasonalized series\n",
    "deseasonalized = temp_data_with_day['temp'] - temp_data_with_day['seasonal_mean']\n",
    "'''\n",
    "\n",
    "from WA_seasonal_mean import remove_seasonality\n",
    "\n",
    "\n",
    "deseasonalized= remove_seasonality(temp_data['temp'])\n",
    "\n",
    "# Perform tests on deseasonalized data\n",
    "adf_test(deseasonalized, \"Deseasonalized Temperature Data\")\n",
    "kpss_test(deseasonalized, \"Deseasonalized Temperature Data\")\n",
    "\n",
    "# Plot the deseasonalized data\n",
    "plt.figure(figsize=(12, 6))\n",
    "plt.plot(temp_data['date'], deseasonalized)\n",
    "plt.title('Deseasonalized Temperature Data')\n",
    "plt.xlabel('Date')\n",
    "plt.ylabel('Temperature (deseasonalized)')\n",
    "plt.grid(True)\n",
    "plt.show()\n",
    "\n",
    "\n",
    "\n",
    "\n"
   ]
  },
  {
   "cell_type": "markdown",
   "metadata": {},
   "source": [
    "# and detrend"
   ]
  },
  {
   "cell_type": "code",
   "execution_count": null,
   "metadata": {},
   "outputs": [],
   "source": [
    "# Detrending the series\n",
    "X = list(range(len(temp_data)))\n",
    "y = temp_data['temp']\n",
    "X = sm.add_constant(X)\n",
    "model = sm.OLS(y, X)\n",
    "results = model.fit()\n",
    "trend = results.predict(X)\n",
    "detrended = temp_data['temp'] - trend\n",
    "\n",
    "# Create temp_data_with_day dataframe\n",
    "temp_data_with_day = temp_data.copy()\n",
    "temp_data_with_day['dayofyear'] = temp_data_with_day['date'].dt.dayofyear\n",
    "temp_data_with_day['detrended'] = detrended\n",
    "\n",
    "# Deseasonalizing the detrended series using WA_seasonal_mean\n",
    "from WA_seasonal_mean import remove_seasonality\n",
    "deseasonalized_detrended = remove_seasonality(detrended)\n",
    "\n",
    "# Alternative approach: If you prefer to use the original method with mean/std normalization:\n",
    "# detrended_seasonal_mean = temp_data_with_day.groupby('dayofyear')['detrended'].mean()\n",
    "# detrended_seasonal_std = temp_data_with_day.groupby('dayofyear')['detrended'].std()\n",
    "# \n",
    "# seasonal_means_detrended = detrended_seasonal_mean.reset_index()\n",
    "# seasonal_means_detrended.columns = ['dayofyear', 'seasonal_mean_detrended']\n",
    "# temp_data_with_day = pd.merge(temp_data_with_day, seasonal_means_detrended, on='dayofyear')\n",
    "# \n",
    "# seasonal_std_detrended = detrended_seasonal_std.reset_index()\n",
    "# seasonal_std_detrended.columns = ['dayofyear', 'seasonal_std_detrended']\n",
    "# temp_data_with_day = pd.merge(temp_data_with_day, seasonal_std_detrended, on='dayofyear')\n",
    "# \n",
    "# deseasonalized_detrended = (temp_data_with_day['detrended'] - temp_data_with_day['seasonal_mean_detrended']) / temp_data_with_day['seasonal_std_detrended']\n",
    "\n",
    "# Add processed series back to dataframe for reference\n",
    "temp_data_with_day['deseasonalized_detrended'] = deseasonalized_detrended"
   ]
  },
  {
   "cell_type": "markdown",
   "metadata": {},
   "source": [
    "hurst test to test understand the behaviour of the time series"
   ]
  },
  {
   "cell_type": "code",
   "execution_count": null,
   "metadata": {},
   "outputs": [
    {
     "name": "stdout",
     "output_type": "stream",
     "text": []
    },
    {
     "name": "stdout",
     "output_type": "stream",
     "text": []
    },
    {
     "name": "stdout",
     "output_type": "stream",
     "text": []
    },
    {
     "name": "stdout",
     "output_type": "stream",
     "text": []
    },
    {
     "name": "stdout",
     "output_type": "stream",
     "text": []
    }
   ],
   "source": [
    "from hurst import compute_Hc\n",
    "\n",
    "# Unit root tests on the deseasonalized and detrended series\n",
    "adf_test(deseasonalized_detrended, \"Deseasonalized and Detrended Temperature Data\")\n",
    "kpss_test(deseasonalized_detrended, \"Deseasonalized and Detrended Temperature Data\")\n",
    "\n",
    "# Hurst exponent estimation\n",
    "H, c, val = compute_Hc(temp_data['temp'], kind='change', simplified=True)\n",
    "print(f\"Hurst exponent of original series: {H:.4f}\")\n",
    "\n",
    "H_processed, c_processed, val_processed = compute_Hc(deseasonalized_detrended.dropna(), kind='change', simplified=True)\n",
    "print(f\"Hurst exponent of processed series: {H_processed:.4f}\")\n",
    "\n",
    "# Autocorrelation plots\n",
    "from statsmodels.graphics.tsaplots import plot_acf, plot_pacf\n",
    "\n",
    "plt.figure(figsize=(12, 6))\n",
    "plot_acf(deseasonalized_detrended.dropna(), lags=50, ax=plt.gca())\n",
    "plt.title('ACF of Deseasonalized and Detrended Temperature Data')\n",
    "plt.show()\n",
    "\n",
    "plt.figure(figsize=(12, 6))\n",
    "plot_pacf(deseasonalized_detrended.dropna(), lags=50, ax=plt.gca())\n",
    "plt.title('PACF of Deseasonalized and Detrended Temperature Data')\n",
    "plt.show()\n",
    "\n",
    "# Optional: Visualize the original vs. detrended vs. fully processed data\n",
    "plt.figure(figsize=(14, 8))\n",
    "plt.plot(temp_data['date'], temp_data['temp'], label='Original Temperature')\n",
    "plt.plot(temp_data['date'], detrended, label='Detrended Temperature')\n",
    "plt.plot(temp_data_with_day['date'], deseasonalized_detrended, label='Detrended & Deseasonalized')\n",
    "plt.title('Temperature Data Processing Comparison')\n",
    "plt.xlabel('Date')\n",
    "plt.ylabel('Temperature')\n",
    "plt.legend()\n",
    "plt.grid(True)\n",
    "plt.show()"
   ]
  },
  {
   "cell_type": "markdown",
   "metadata": {},
   "source": [
    "# estimating the mean reversion speed"
   ]
  },
  {
   "cell_type": "code",
   "execution_count": null,
   "metadata": {},
   "outputs": [],
   "source": [
    "from WA_mean_reversion_speed import estimate_mean_reversion\n",
    "# Deseasonalize the data\n",
    "deseasonalized = remove_seasonality(temp_data['temp'])\n",
    "\n",
    "# Estimate mean reversion using Wavelet Network\n",
    "results_wn = estimate_mean_reversion(\n",
    "    temp_data_with_day['deseasonalized_detrended'], \n",
    "    dates=temp_data_with_day['date'], \n",
    "    max_lag=10,\n",
    "    model_type='wavelet'\n",
    ")\n",
    "\n",
    "# Estimate mean reversion using MLP for comparison\n",
    "results_mlp = estimate_mean_reversion(\n",
    "    temp_data_with_day['deseasonalized_detrended'], \n",
    "    dates=temp_data_with_day['date'],\n",
    "    max_lag=10,\n",
    "    model_type='mlp'\n",
    ")\n",
    "\n",
    "# Compare the models\n",
    "print(\"\\nModel Comparison:\")\n",
    "print(f\"Wavelet Network MSE: {results_wn['metrics']['mse']:.6f}, Mean k(t): {results_wn['metrics']['mean_k']:.6f}\")\n",
    "print(f\"MLP MSE: {results_mlp['metrics']['mse']:.6f}, Mean k(t): {results_mlp['metrics']['mean_k']:.6f}\")"
   ]
  }
 ],
 "metadata": {
  "kernelspec": {
   "display_name": "Python 3",
   "language": "python",
   "name": "python3"
  },
  "language_info": {
   "codemirror_mode": {
    "name": "ipython",
    "version": 3
   },
   "file_extension": ".py",
   "mimetype": "text/x-python",
   "name": "python",
   "nbconvert_exporter": "python",
   "pygments_lexer": "ipython3",
   "version": "3.12.8"
  }
 },
 "nbformat": 4,
 "nbformat_minor": 2
}
